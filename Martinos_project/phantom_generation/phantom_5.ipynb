{
 "cells": [
  {
   "cell_type": "markdown",
   "metadata": {},
   "source": [
    "This is based off of this Project:\n",
    "\n",
    "1) provides the forward model of the imaging process.  Namely given a numerical phantom (“image”) of say the head), takes user provided field maps for the B0 magnet, and the gradients and RF coil and generates what the kspace of that object is expected to be.\n",
    "2) Show the conventional FFT reconstruction of this modeled data and compare it to the ground truth object with some set of metrics (of distortion etc.)\n",
    "3) Do an iterative reconstruction of the ground-truth object using the forward model to give a \"best case” look at how this configuration of fields would image.  Note that if the fields render an ill-posed inverse problem, there will be residual aliasing and noise amplification.  Provide metrics of these."
   ]
  },
  {
   "cell_type": "code",
   "execution_count": 7,
   "metadata": {},
   "outputs": [],
   "source": [
    "import numpy as np\n",
    "import matplotlib.pyplot as plt\n",
    "import scipy as sp\n",
    "\n",
    "N_spins = 81  # Number of spins in each direction\n",
    "# Create the phantom\n",
    "phantom = np.ones((N_spins, N_spins), dtype=np.complex128)  # All spins start in equilibrium state\n",
    "\n",
    "gamma = 42.58e6  # Gyromagnetic ratio for hydrogen in Hz/T\n",
    "G = 1e-3  # Gradient strength in T/m\n",
    "\n",
    "# Load the CSV B0 data into a NumPy array\n",
    "B0 = np.genfromtxt('2Dslice.csv', delimiter=',')\n",
    "\n",
    "# Calculate the Larmor frequency\n",
    "omega0 = B0 * gamma\n",
    "\n",
    "# Calculate the magnetic field strength\n",
    "B = G * omega0\n"
   ]
  },
  {
   "cell_type": "code",
   "execution_count": null,
   "metadata": {},
   "outputs": [],
   "source": []
  }
 ],
 "metadata": {
  "kernelspec": {
   "display_name": "Python 3",
   "language": "python",
   "name": "python3"
  },
  "language_info": {
   "codemirror_mode": {
    "name": "ipython",
    "version": 3
   },
   "file_extension": ".py",
   "mimetype": "text/x-python",
   "name": "python",
   "nbconvert_exporter": "python",
   "pygments_lexer": "ipython3",
   "version": "3.11.4"
  },
  "orig_nbformat": 4
 },
 "nbformat": 4,
 "nbformat_minor": 2
}
